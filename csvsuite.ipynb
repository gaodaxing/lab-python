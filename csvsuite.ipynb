{
 "cells": [
  {
   "cell_type": "code",
   "execution_count": 74,
   "metadata": {
    "collapsed": false
   },
   "outputs": [],
   "source": [
    "import os\n",
    "def csvsuite(cohort='pat', destfile=\"Kpat\", recessive=True, gene='', csvdir=\"K_exonic\", freq=0.01, GDI=13 ):\n",
    "    path=''\n",
    "    paths=[]\n",
    "    cmds=[]\n",
    "    \n",
    "    \n",
    "    if(cohort=='pat'):path='/Users/daxinggao/Desktop/data/cohort_gene_list/Kawasaki_patient_list.csv'\n",
    "    elif(cohort=='par'):path='/Users/daxinggao/Desktop/data/cohort_gene_list/K_parent_list.csv'\n",
    "    elif(cohort=='kawasaki'):path='/Users/daxinggao/Desktop/data/cohort_gene_list/Kawasaki_cohort_list.csv'\n",
    "    elif(cohort==\"lab\"):\n",
    "        csvdir=\"AllexK_Exonic\"\n",
    "        paths.append('/Users/daxinggao/Desktop/data/cohort_gene_list/AexKlist1.csv')\n",
    "        paths.append('/Users/daxinggao/Desktop/data/cohort_gene_list/AexKlist2.csv')\n",
    "        paths.append('/Users/daxinggao/Desktop/data/cohort_gene_list/AexKlist3.csv')\n",
    "    \n",
    "    if recessive==True: model='hom|compound_het'\n",
    "    else: \n",
    "        model=''\n",
    "        freq=0.001\n",
    "        GDI=9\n",
    "        \n",
    "    if len(path)>0:\n",
    "        cmd='java -XstartOnFirstThread -cp swt.jar -jar /Users/daxinggao/Desktop/CsvSuite.V0.2.MacOS.jar \\\n",
    "scan /Users/daxinggao/Desktop/'+csvdir+' \\\"[Ver4_1]'+path+'@variant>=0.0(func={stop-gained|stop-lost\\\n",
    "|start-lost|indel-frameshift|indel-inframe|exon_deleted|essential_splicing|missense|start_gained}\\\n",
    ";gene={'+gene+'};1000GenomesFreq='+str(freq)+';excludeDbsnp=false;ExAC_AF='+str(freq)+';GDI<='+str(GDI)+';zygo={'+model+'};\\\n",
    "MQ=50.0;DP=3;QD=0;varQual=0.0)\\\" /Users/daxinggao/Desktop/'+destfile+'.csv'\n",
    "        return cmd\n",
    "    else: \n",
    "        i=1\n",
    "        destdir='/Users/daxinggao/Desktop/'+destfile\n",
    "        for p in paths:\n",
    "            cmd='java -XstartOnFirstThread -cp swt.jar -jar /Users/daxinggao/Desktop/CsvSuite.V0.2.MacOS.jar \\\n",
    "scan /Users/daxinggao/Desktop/'+csvdir+' \\\"[Ver4_1]'+p+'@variant>=0.0(func={stop-gained|stop-lost\\\n",
    "|start-lost|indel-frameshift|indel-inframe|exon_deleted|essential_splicing|missense|start_gained}\\\n",
    ";gene={'+gene+'};1000GenomesFreq='+str(freq)+';excludeDbsnp=false;ExAC_AF='+str(freq)+';GDI<='+str(GDI)+';zygo={'+model+'}\\\n",
    ";MQ=50.0;DP=3;QD=0;varQual=0.0)\\\" /Users/daxinggao/Desktop/'+destfile+'_'+str(i)+'.csv'\n",
    "            cmds.append(cmd)\n",
    "            i+=1\n",
    "        return cmds,destdir\n",
    "        "
   ]
  },
  {
   "cell_type": "code",
   "execution_count": 69,
   "metadata": {
    "collapsed": false
   },
   "outputs": [
    {
     "name": "stdout",
     "output_type": "stream",
     "text": [
      "java -XstartOnFirstThread -cp swt.jar -jar /Users/daxinggao/Desktop/CsvSuite.V0.2.MacOS.jar scan /Users/daxinggao/Desktop/AllexK_Exonic \"[Ver4_1]/Users/daxinggao/Desktop/data/cohort_gene_list/AexKlist1.csv@variant>=0.0(func={stop-gained|stop-lost|start-lost|indel-frameshift|indel-inframe|exon_deleted|essential_splicing|missense|start_gained};gene={MIB2};1000GenomesFreq=0.01;excludeDbsnp=false;ExAC_AF=0.01;GDI<=13;zygo={hom|compound_het};MQ=50.0;DP=3;QD=0;varQual=0.0)\" /Users/daxinggao/Desktop/kpat_1.csv\n",
      "java -XstartOnFirstThread -cp swt.jar -jar /Users/daxinggao/Desktop/CsvSuite.V0.2.MacOS.jar scan /Users/daxinggao/Desktop/AllexK_Exonic \"[Ver4_1]/Users/daxinggao/Desktop/data/cohort_gene_list/AexKlist2.csv@variant>=0.0(func={stop-gained|stop-lost|start-lost|indel-frameshift|indel-inframe|exon_deleted|essential_splicing|missense|start_gained};gene={MIB2};1000GenomesFreq=0.01;excludeDbsnp=false;ExAC_AF=0.01;GDI<=13;zygo={hom|compound_het};MQ=50.0;DP=3;QD=0;varQual=0.0)\" /Users/daxinggao/Desktop/kpat_2.csv\n",
      "java -XstartOnFirstThread -cp swt.jar -jar /Users/daxinggao/Desktop/CsvSuite.V0.2.MacOS.jar scan /Users/daxinggao/Desktop/AllexK_Exonic \"[Ver4_1]/Users/daxinggao/Desktop/data/cohort_gene_list/AexKlist3.csv@variant>=0.0(func={stop-gained|stop-lost|start-lost|indel-frameshift|indel-inframe|exon_deleted|essential_splicing|missense|start_gained};gene={MIB2};1000GenomesFreq=0.01;excludeDbsnp=false;ExAC_AF=0.01;GDI<=13;zygo={hom|compound_het};MQ=50.0;DP=3;QD=0;varQual=0.0)\" /Users/daxinggao/Desktop/kpat_3.csv\n"
     ]
    }
   ],
   "source": [
    "cmd=csvsuite('pat','Kpat',True)\n",
    "os.system(cmd)\n",
    "    "
   ]
  },
  {
   "cell_type": "code",
   "execution_count": 76,
   "metadata": {
    "collapsed": false
   },
   "outputs": [
    {
     "name": "stdout",
     "output_type": "stream",
     "text": [
      "/Users/daxinggao/Desktop/AllexK\n",
      "java -XstartOnFirstThread -cp swt.jar -jar /Users/daxinggao/Desktop/CsvSuite.V0.2.MacOS.jar scan /Users/daxinggao/Desktop/AllexK_Exonic \"[Ver4_1]/Users/daxinggao/Desktop/data/cohort_gene_list/AexKlist1.csv@variant>=0.0(func={stop-gained|stop-lost|start-lost|indel-frameshift|indel-inframe|exon_deleted|essential_splicing|missense|start_gained};gene={};1000GenomesFreq=0.01;excludeDbsnp=false;ExAC_AF=0.01;GDI<=13;zygo={hom|compound_het};MQ=50.0;DP=3;QD=0;varQual=0.0)\" /Users/daxinggao/Desktop/AllexK_1.csv\n",
      "java -XstartOnFirstThread -cp swt.jar -jar /Users/daxinggao/Desktop/CsvSuite.V0.2.MacOS.jar scan /Users/daxinggao/Desktop/AllexK_Exonic \"[Ver4_1]/Users/daxinggao/Desktop/data/cohort_gene_list/AexKlist2.csv@variant>=0.0(func={stop-gained|stop-lost|start-lost|indel-frameshift|indel-inframe|exon_deleted|essential_splicing|missense|start_gained};gene={};1000GenomesFreq=0.01;excludeDbsnp=false;ExAC_AF=0.01;GDI<=13;zygo={hom|compound_het};MQ=50.0;DP=3;QD=0;varQual=0.0)\" /Users/daxinggao/Desktop/AllexK_2.csv\n",
      "java -XstartOnFirstThread -cp swt.jar -jar /Users/daxinggao/Desktop/CsvSuite.V0.2.MacOS.jar scan /Users/daxinggao/Desktop/AllexK_Exonic \"[Ver4_1]/Users/daxinggao/Desktop/data/cohort_gene_list/AexKlist3.csv@variant>=0.0(func={stop-gained|stop-lost|start-lost|indel-frameshift|indel-inframe|exon_deleted|essential_splicing|missense|start_gained};gene={};1000GenomesFreq=0.01;excludeDbsnp=false;ExAC_AF=0.01;GDI<=13;zygo={hom|compound_het};MQ=50.0;DP=3;QD=0;varQual=0.0)\" /Users/daxinggao/Desktop/AllexK_3.csv\n",
      "cat /Users/daxinggao/Desktop/AllexK_1.csv>>/Users/daxinggao/Desktop/AllexK.csv\n",
      "sed '1d' /Users/daxinggao/Desktop/AllexK_2.csv>>/Users/daxinggao/Desktop/AllexK.csv\n",
      "sed '1d' /Users/daxinggao/Desktop/AllexK_3.csv>>/Users/daxinggao/Desktop/AllexK.csv\n"
     ]
    }
   ],
   "source": [
    "cmds,destdir=csvsuite('lab','AllexK',True)\n",
    "print destdir\n",
    "for cmd in cmds:\n",
    "    print cmd\n",
    "path=destdir+'_1.csv'\n",
    "cmd='cat '+path+'>>'+destdir+'.csv'\n",
    "print cmd\n",
    "\n",
    "for i in range(2):\n",
    "    path=destdir+'_'+str(i+2)+'.csv'\n",
    "    cmd='sed \\'1d\\' '+ path +'>>'+destdir+'.csv'\n",
    "    print cmd"
   ]
  }
 ],
 "metadata": {
  "kernelspec": {
   "display_name": "Python 2",
   "language": "python",
   "name": "python2"
  },
  "language_info": {
   "codemirror_mode": {
    "name": "ipython",
    "version": 2
   },
   "file_extension": ".py",
   "mimetype": "text/x-python",
   "name": "python",
   "nbconvert_exporter": "python",
   "pygments_lexer": "ipython2",
   "version": "2.7.11"
  }
 },
 "nbformat": 4,
 "nbformat_minor": 0
}
